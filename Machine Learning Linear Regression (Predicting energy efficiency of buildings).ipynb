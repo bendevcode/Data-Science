{
 "cells": [
  {
   "cell_type": "markdown",
   "metadata": {},
   "source": [
    "MACHINE LEARNING REGRESSION PREDICTING ENERGY EFFICIENCY OF BUILDINGS\n",
    "\n",
    "Dataset Description\n",
    "\n",
    "https://archive.ics.uci.edu/ml/machine-learning-databases/00374/energydata_complete.csv\n",
    "\n",
    "The dataset for the remainder of this quiz is the Appliances Energy Prediction data. The data set is at 10 min for about 4.5 months. The house temperature and humidity conditions were monitored with a ZigBee wireless sensor network. Each wireless node transmitted the temperature and humidity conditions around 3.3 min. Then, the wireless data was averaged for 10 minutes periods. The energy data was logged every 10 minutes with m-bus energy meters. Weather from the nearest airport weather station (Chievres Airport, Belgium) was downloaded from a public data set from Reliable Prognosis (rp5.ru), and merged together with the experimental data sets using the date and time column. Two random variables have been included in the data set for testing the regression models and to filter out non predictive attributes (parameters). The attribute information can be seen below.\n",
    "\n",
    "Attribute Information:\n",
    "\n",
    "Date, time year-month-day hour:minute:second\n",
    "\n",
    "Appliances, energy use in Wh\n",
    "\n",
    "lights, energy use of light fixtures in the house in Wh\n",
    "\n",
    "T1, Temperature in kitchen area, in Celsius\n",
    "\n",
    "RH_1, Humidity in kitchen area, in %\n",
    "\n",
    "T2, Temperature in living room area, in Celsius\n",
    "\n",
    "RH_2, Humidity in living room area, in %\n",
    "\n",
    "T3, Temperature in laundry room area\n",
    "\n",
    "RH_3, Humidity in laundry room area, in %\n",
    "\n",
    "T4, Temperature in office room, in Celsius\n",
    "\n",
    "RH_4, Humidity in office room, in %\n",
    "\n",
    "T5, Temperature in bathroom, in Celsius\n",
    "\n",
    "RH_5, Humidity in bathroom, in %\n",
    "\n",
    "T6, Temperature outside the building (north side), in Celsius\n",
    "\n",
    "RH_6, Humidity outside the building (north side), in %\n",
    "\n",
    "T7, Temperature in ironing room , in Celsius\n",
    "\n",
    "RH_7, Humidity in ironing room, in %\n",
    "\n",
    "T8, Temperature in teenager room 2, in Celsius\n",
    "\n",
    "RH_8, Humidity in teenager room 2, in %\n",
    "\n",
    "T9, Temperature in parents room, in Celsius\n",
    "\n",
    "RH_9, Humidity in parents room, in %\n",
    "\n",
    "To, Temperature outside (from Chievres weather station), in Celsius\n",
    "\n",
    "Pressure (from Chievres weather station), in mm Hg\n",
    "\n",
    "RH_out, Humidity outside (from Chievres weather station), in %\n",
    "\n",
    "Wind speed (from Chievres weather station), in m/s\n",
    "\n",
    "Visibility (from Chievres weather station), in km\n",
    "\n",
    "Tdewpoint (from Chievres weather station), Â°C\n",
    "\n",
    "rv1, Random variable 1, nondimensional\n",
    "\n",
    "rv2, Random variable 2, nondimensional\n"
   ]
  },
  {
   "cell_type": "code",
   "execution_count": 61,
   "metadata": {
    "ExecuteTime": {
     "end_time": "2022-02-12T02:19:14.132838Z",
     "start_time": "2022-02-12T02:19:06.897125Z"
    }
   },
   "outputs": [],
   "source": [
    "import pandas as pd\n",
    "import numpy as np\n",
    "from sklearn.model_selection import train_test_split\n",
    "from sklearn.metrics import mean_absolute_error"
   ]
  },
  {
   "cell_type": "code",
   "execution_count": 62,
   "metadata": {
    "ExecuteTime": {
     "end_time": "2022-02-12T02:19:14.915650Z",
     "start_time": "2022-02-12T02:19:14.259936Z"
    }
   },
   "outputs": [],
   "source": [
    "df = pd.read_csv('energydata_complete.csv')"
   ]
  },
  {
   "cell_type": "code",
   "execution_count": 64,
   "metadata": {
    "ExecuteTime": {
     "end_time": "2022-02-12T02:26:55.876829Z",
     "start_time": "2022-02-12T02:26:55.858078Z"
    }
   },
   "outputs": [
    {
     "data": {
      "text/plain": [
       "0.64"
      ]
     },
     "execution_count": 64,
     "metadata": {},
     "output_type": "execute_result"
    }
   ],
   "source": [
    "#12.linear model on the relationship between the temperature in the living room in Celsius (x = T2) and the temperature outside the building (y = T6). \n",
    "\n",
    "from sklearn.linear_model import LinearRegression\n",
    "from sklearn.metrics import r2_score\n",
    "\n",
    "x = df[['T2']]\n",
    "y = df[['T6']]\n",
    "\n",
    "linear_model = LinearRegression()\n",
    "linear_model.fit(x, y)\n",
    "\n",
    "predictions = linear_model.predict(x)\n",
    "#r Squared value\n",
    "round(r2_score(y, predictions), 2)"
   ]
  },
  {
   "cell_type": "code",
   "execution_count": 74,
   "metadata": {
    "ExecuteTime": {
     "end_time": "2022-02-12T02:44:47.509198Z",
     "start_time": "2022-02-12T02:44:47.467311Z"
    }
   },
   "outputs": [
    {
     "data": {
      "text/plain": [
       "53.64"
      ]
     },
     "execution_count": 74,
     "metadata": {},
     "output_type": "execute_result"
    }
   ],
   "source": [
    "#13. Normalize the dataset using the MinMaxScaler \n",
    "#Calculating the Mean Absolute Error\n",
    "\n",
    "from sklearn.preprocessing import MinMaxScaler\n",
    "from sklearn.model_selection import train_test_split\n",
    "from sklearn.metrics import mean_absolute_error, mean_squared_error\n",
    "\n",
    "X = df[df.columns.drop([\"date\", \"lights\", \"Appliances\"])]\n",
    "y = df[\"Appliances\"]\n",
    "\n",
    "X_train, X_test, y_train, y_test = train_test_split(X, y, test_size=0.30, random_state=42)\n",
    "\n",
    "scaler = MinMaxScaler()\n",
    "X_train = scaler.fit_transform(X_train)\n",
    "X_test = scaler.transform(X_test)\n",
    "\n",
    "multiple_linear_model = LinearRegression()\n",
    "multiple_linear_model.fit(X_train, y_train)\n",
    "\n",
    "predicted_values = multiple_linear_model.predict(X_test)\n",
    "\n",
    "#MAE\n",
    "from sklearn.metrics import mean_absolute_error\n",
    "mae = mean_absolute_error(y_test, predicted_values)\n",
    "round(mae, 2)\n",
    "\n"
   ]
  },
  {
   "cell_type": "code",
   "execution_count": 83,
   "metadata": {
    "ExecuteTime": {
     "end_time": "2022-02-12T02:50:46.714063Z",
     "start_time": "2022-02-12T02:50:46.707515Z"
    }
   },
   "outputs": [
    {
     "data": {
      "text/plain": [
       "51918501.21"
      ]
     },
     "execution_count": 83,
     "metadata": {},
     "output_type": "execute_result"
    }
   ],
   "source": [
    "#14. Residual Sum of Squares \n",
    "\n",
    "rss = np.sum(np.square(y_test - predicted_values))\n",
    "round(rss, 2) "
   ]
  },
  {
   "cell_type": "code",
   "execution_count": 110,
   "metadata": {
    "ExecuteTime": {
     "end_time": "2022-02-12T03:10:51.125619Z",
     "start_time": "2022-02-12T03:10:51.117639Z"
    }
   },
   "outputs": [
    {
     "data": {
      "text/plain": [
       "93.64"
      ]
     },
     "execution_count": 110,
     "metadata": {},
     "output_type": "execute_result"
    }
   ],
   "source": [
    "#15. Calculating the Root Mean Squared Error\n",
    "#this value was 93.64 earlier\n",
    "rmse = np.sqrt(mean_squared_error(y_test, predicted_values))\n",
    "round(rmse, 3) "
   ]
  },
  {
   "cell_type": "code",
   "execution_count": 111,
   "metadata": {
    "ExecuteTime": {
     "end_time": "2022-02-12T03:10:52.633145Z",
     "start_time": "2022-02-12T03:10:52.624070Z"
    }
   },
   "outputs": [
    {
     "data": {
      "text/plain": [
       "0.15"
      ]
     },
     "execution_count": 111,
     "metadata": {},
     "output_type": "execute_result"
    }
   ],
   "source": [
    "#16. Coefficient of determination\n",
    "\n",
    "from sklearn.metrics import r2_score\n",
    "r2_score = r2_score(y_test, predicted_values)\n",
    "round(r2_score, 2)"
   ]
  },
  {
   "cell_type": "code",
   "execution_count": 112,
   "metadata": {
    "ExecuteTime": {
     "end_time": "2022-02-12T03:10:55.459557Z",
     "start_time": "2022-02-12T03:10:55.428577Z"
    }
   },
   "outputs": [
    {
     "data": {
      "text/html": [
       "<div>\n",
       "<style scoped>\n",
       "    .dataframe tbody tr th:only-of-type {\n",
       "        vertical-align: middle;\n",
       "    }\n",
       "\n",
       "    .dataframe tbody tr th {\n",
       "        vertical-align: top;\n",
       "    }\n",
       "\n",
       "    .dataframe thead th {\n",
       "        text-align: right;\n",
       "    }\n",
       "</style>\n",
       "<table border=\"1\" class=\"dataframe\">\n",
       "  <thead>\n",
       "    <tr style=\"text-align: right;\">\n",
       "      <th></th>\n",
       "      <th>features</th>\n",
       "      <th>weights</th>\n",
       "    </tr>\n",
       "  </thead>\n",
       "  <tbody>\n",
       "    <tr>\n",
       "      <th>1</th>\n",
       "      <td>RH_1</td>\n",
       "      <td>495.526</td>\n",
       "    </tr>\n",
       "    <tr>\n",
       "      <th>4</th>\n",
       "      <td>T3</td>\n",
       "      <td>310.971</td>\n",
       "    </tr>\n",
       "    <tr>\n",
       "      <th>10</th>\n",
       "      <td>T6</td>\n",
       "      <td>252.717</td>\n",
       "    </tr>\n",
       "    <tr>\n",
       "      <th>23</th>\n",
       "      <td>Tdewpoint</td>\n",
       "      <td>125.431</td>\n",
       "    </tr>\n",
       "    <tr>\n",
       "      <th>14</th>\n",
       "      <td>T8</td>\n",
       "      <td>109.135</td>\n",
       "    </tr>\n",
       "    <tr>\n",
       "      <th>5</th>\n",
       "      <td>RH_3</td>\n",
       "      <td>102.772</td>\n",
       "    </tr>\n",
       "    <tr>\n",
       "      <th>11</th>\n",
       "      <td>RH_6</td>\n",
       "      <td>40.7121</td>\n",
       "    </tr>\n",
       "    <tr>\n",
       "      <th>21</th>\n",
       "      <td>Windspeed</td>\n",
       "      <td>31.2259</td>\n",
       "    </tr>\n",
       "    <tr>\n",
       "      <th>6</th>\n",
       "      <td>T4</td>\n",
       "      <td>31.0097</td>\n",
       "    </tr>\n",
       "    <tr>\n",
       "      <th>7</th>\n",
       "      <td>RH_4</td>\n",
       "      <td>27.3118</td>\n",
       "    </tr>\n",
       "    <tr>\n",
       "      <th>9</th>\n",
       "      <td>RH_5</td>\n",
       "      <td>17.0356</td>\n",
       "    </tr>\n",
       "    <tr>\n",
       "      <th>22</th>\n",
       "      <td>Visibility</td>\n",
       "      <td>13.1681</td>\n",
       "    </tr>\n",
       "    <tr>\n",
       "      <th>12</th>\n",
       "      <td>T7</td>\n",
       "      <td>11.0029</td>\n",
       "    </tr>\n",
       "    <tr>\n",
       "      <th>19</th>\n",
       "      <td>Press_mm_hg</td>\n",
       "      <td>7.31524</td>\n",
       "    </tr>\n",
       "    <tr>\n",
       "      <th>25</th>\n",
       "      <td>rv2</td>\n",
       "      <td>0.82387</td>\n",
       "    </tr>\n",
       "    <tr>\n",
       "      <th>24</th>\n",
       "      <td>rv1</td>\n",
       "      <td>0.82387</td>\n",
       "    </tr>\n",
       "    <tr>\n",
       "      <th>0</th>\n",
       "      <td>T1</td>\n",
       "      <td>-3.51072</td>\n",
       "    </tr>\n",
       "    <tr>\n",
       "      <th>8</th>\n",
       "      <td>T5</td>\n",
       "      <td>-16.7528</td>\n",
       "    </tr>\n",
       "    <tr>\n",
       "      <th>17</th>\n",
       "      <td>RH_9</td>\n",
       "      <td>-42.5863</td>\n",
       "    </tr>\n",
       "    <tr>\n",
       "      <th>13</th>\n",
       "      <td>RH_7</td>\n",
       "      <td>-47.5636</td>\n",
       "    </tr>\n",
       "    <tr>\n",
       "      <th>20</th>\n",
       "      <td>RH_out</td>\n",
       "      <td>-83.1076</td>\n",
       "    </tr>\n",
       "    <tr>\n",
       "      <th>15</th>\n",
       "      <td>RH_8</td>\n",
       "      <td>-168.627</td>\n",
       "    </tr>\n",
       "    <tr>\n",
       "      <th>16</th>\n",
       "      <td>T9</td>\n",
       "      <td>-203.237</td>\n",
       "    </tr>\n",
       "    <tr>\n",
       "      <th>2</th>\n",
       "      <td>T2</td>\n",
       "      <td>-252.71</td>\n",
       "    </tr>\n",
       "    <tr>\n",
       "      <th>18</th>\n",
       "      <td>T_out</td>\n",
       "      <td>-344.39</td>\n",
       "    </tr>\n",
       "    <tr>\n",
       "      <th>3</th>\n",
       "      <td>RH_2</td>\n",
       "      <td>-469.521</td>\n",
       "    </tr>\n",
       "  </tbody>\n",
       "</table>\n",
       "</div>"
      ],
      "text/plain": [
       "       features  weights\n",
       "1          RH_1  495.526\n",
       "4            T3  310.971\n",
       "10           T6  252.717\n",
       "23    Tdewpoint  125.431\n",
       "14           T8  109.135\n",
       "5          RH_3  102.772\n",
       "11         RH_6  40.7121\n",
       "21    Windspeed  31.2259\n",
       "6            T4  31.0097\n",
       "7          RH_4  27.3118\n",
       "9          RH_5  17.0356\n",
       "22   Visibility  13.1681\n",
       "12           T7  11.0029\n",
       "19  Press_mm_hg  7.31524\n",
       "25          rv2  0.82387\n",
       "24          rv1  0.82387\n",
       "0            T1 -3.51072\n",
       "8            T5 -16.7528\n",
       "17         RH_9 -42.5863\n",
       "13         RH_7 -47.5636\n",
       "20       RH_out -83.1076\n",
       "15         RH_8 -168.627\n",
       "16           T9 -203.237\n",
       "2            T2  -252.71\n",
       "18        T_out  -344.39\n",
       "3          RH_2 -469.521"
      ]
     },
     "execution_count": 112,
     "metadata": {},
     "output_type": "execute_result"
    }
   ],
   "source": [
    "#17. Obtain the feature weights from your linear model above. Which features have the lowest and highest weights respectively?\n",
    "\n",
    "weights_df = pd.DataFrame([X.columns, multiple_linear_model.coef_]).transpose()\n",
    "weights_df.columns = [\"features\", \"weights\"]\n",
    "weights_df.sort_values(by=\"weights\", ascending=False)\n",
    "\n",
    "\n",
    "\n"
   ]
  },
  {
   "cell_type": "code",
   "execution_count": 113,
   "metadata": {
    "ExecuteTime": {
     "end_time": "2022-02-12T03:11:00.131114Z",
     "start_time": "2022-02-12T03:11:00.109977Z"
    }
   },
   "outputs": [
    {
     "data": {
      "text/plain": [
       "93.66"
      ]
     },
     "execution_count": 113,
     "metadata": {},
     "output_type": "execute_result"
    }
   ],
   "source": [
    "#18. Train a ridge regression model with an alpha value of 0.4. Is there any change to the root mean squared error (RMSE) when evaluated on the test set?\n",
    "#Ans = No\n",
    "from sklearn.linear_model import Ridge\n",
    "\n",
    "ridge_model = Ridge(alpha=0.4)\n",
    "ridge_model.fit(X_train, y_train)\n",
    "\n",
    "test_predictions = ridge_model.predict(X_test)\n",
    "\n",
    "#Root Mean Squared Error\n",
    "round(mean_squared_error(y_test, test_predictions, squared=False), 3)"
   ]
  },
  {
   "cell_type": "code",
   "execution_count": 114,
   "metadata": {
    "ExecuteTime": {
     "end_time": "2022-02-12T03:12:03.881929Z",
     "start_time": "2022-02-12T03:12:03.635856Z"
    }
   },
   "outputs": [
    {
     "data": {
      "text/html": [
       "<div>\n",
       "<style scoped>\n",
       "    .dataframe tbody tr th:only-of-type {\n",
       "        vertical-align: middle;\n",
       "    }\n",
       "\n",
       "    .dataframe tbody tr th {\n",
       "        vertical-align: top;\n",
       "    }\n",
       "\n",
       "    .dataframe thead th {\n",
       "        text-align: right;\n",
       "    }\n",
       "</style>\n",
       "<table border=\"1\" class=\"dataframe\">\n",
       "  <thead>\n",
       "    <tr style=\"text-align: right;\">\n",
       "      <th></th>\n",
       "      <th>features</th>\n",
       "      <th>weights</th>\n",
       "    </tr>\n",
       "  </thead>\n",
       "  <tbody>\n",
       "    <tr>\n",
       "      <th>1</th>\n",
       "      <td>RH_1</td>\n",
       "      <td>494.326</td>\n",
       "    </tr>\n",
       "    <tr>\n",
       "      <th>4</th>\n",
       "      <td>T3</td>\n",
       "      <td>310.2</td>\n",
       "    </tr>\n",
       "    <tr>\n",
       "      <th>10</th>\n",
       "      <td>T6</td>\n",
       "      <td>249.834</td>\n",
       "    </tr>\n",
       "    <tr>\n",
       "      <th>23</th>\n",
       "      <td>Tdewpoint</td>\n",
       "      <td>118.063</td>\n",
       "    </tr>\n",
       "    <tr>\n",
       "      <th>14</th>\n",
       "      <td>T8</td>\n",
       "      <td>108.88</td>\n",
       "    </tr>\n",
       "    <tr>\n",
       "      <th>5</th>\n",
       "      <td>RH_3</td>\n",
       "      <td>102.172</td>\n",
       "    </tr>\n",
       "    <tr>\n",
       "      <th>11</th>\n",
       "      <td>RH_6</td>\n",
       "      <td>40.091</td>\n",
       "    </tr>\n",
       "    <tr>\n",
       "      <th>21</th>\n",
       "      <td>Windspeed</td>\n",
       "      <td>31.388</td>\n",
       "    </tr>\n",
       "    <tr>\n",
       "      <th>6</th>\n",
       "      <td>T4</td>\n",
       "      <td>30.3442</td>\n",
       "    </tr>\n",
       "    <tr>\n",
       "      <th>7</th>\n",
       "      <td>RH_4</td>\n",
       "      <td>26.5606</td>\n",
       "    </tr>\n",
       "    <tr>\n",
       "      <th>9</th>\n",
       "      <td>RH_5</td>\n",
       "      <td>17.0136</td>\n",
       "    </tr>\n",
       "    <tr>\n",
       "      <th>22</th>\n",
       "      <td>Visibility</td>\n",
       "      <td>13.0781</td>\n",
       "    </tr>\n",
       "    <tr>\n",
       "      <th>12</th>\n",
       "      <td>T7</td>\n",
       "      <td>10.3049</td>\n",
       "    </tr>\n",
       "    <tr>\n",
       "      <th>19</th>\n",
       "      <td>Press_mm_hg</td>\n",
       "      <td>7.28122</td>\n",
       "    </tr>\n",
       "    <tr>\n",
       "      <th>24</th>\n",
       "      <td>rv1</td>\n",
       "      <td>1.63099</td>\n",
       "    </tr>\n",
       "    <tr>\n",
       "      <th>25</th>\n",
       "      <td>rv2</td>\n",
       "      <td>3.09403e-15</td>\n",
       "    </tr>\n",
       "    <tr>\n",
       "      <th>0</th>\n",
       "      <td>T1</td>\n",
       "      <td>-4.05586</td>\n",
       "    </tr>\n",
       "    <tr>\n",
       "      <th>8</th>\n",
       "      <td>T5</td>\n",
       "      <td>-17.113</td>\n",
       "    </tr>\n",
       "    <tr>\n",
       "      <th>17</th>\n",
       "      <td>RH_9</td>\n",
       "      <td>-42.4461</td>\n",
       "    </tr>\n",
       "    <tr>\n",
       "      <th>13</th>\n",
       "      <td>RH_7</td>\n",
       "      <td>-47.2096</td>\n",
       "    </tr>\n",
       "    <tr>\n",
       "      <th>20</th>\n",
       "      <td>RH_out</td>\n",
       "      <td>-77.9888</td>\n",
       "    </tr>\n",
       "    <tr>\n",
       "      <th>15</th>\n",
       "      <td>RH_8</td>\n",
       "      <td>-168.698</td>\n",
       "    </tr>\n",
       "    <tr>\n",
       "      <th>16</th>\n",
       "      <td>T9</td>\n",
       "      <td>-202.481</td>\n",
       "    </tr>\n",
       "    <tr>\n",
       "      <th>2</th>\n",
       "      <td>T2</td>\n",
       "      <td>-249.639</td>\n",
       "    </tr>\n",
       "    <tr>\n",
       "      <th>18</th>\n",
       "      <td>T_out</td>\n",
       "      <td>-332.574</td>\n",
       "    </tr>\n",
       "    <tr>\n",
       "      <th>3</th>\n",
       "      <td>RH_2</td>\n",
       "      <td>-465.821</td>\n",
       "    </tr>\n",
       "  </tbody>\n",
       "</table>\n",
       "</div>"
      ],
      "text/plain": [
       "       features      weights\n",
       "1          RH_1      494.326\n",
       "4            T3        310.2\n",
       "10           T6      249.834\n",
       "23    Tdewpoint      118.063\n",
       "14           T8       108.88\n",
       "5          RH_3      102.172\n",
       "11         RH_6       40.091\n",
       "21    Windspeed       31.388\n",
       "6            T4      30.3442\n",
       "7          RH_4      26.5606\n",
       "9          RH_5      17.0136\n",
       "22   Visibility      13.0781\n",
       "12           T7      10.3049\n",
       "19  Press_mm_hg      7.28122\n",
       "24          rv1      1.63099\n",
       "25          rv2  3.09403e-15\n",
       "0            T1     -4.05586\n",
       "8            T5      -17.113\n",
       "17         RH_9     -42.4461\n",
       "13         RH_7     -47.2096\n",
       "20       RH_out     -77.9888\n",
       "15         RH_8     -168.698\n",
       "16           T9     -202.481\n",
       "2            T2     -249.639\n",
       "18        T_out     -332.574\n",
       "3          RH_2     -465.821"
      ]
     },
     "execution_count": 114,
     "metadata": {},
     "output_type": "execute_result"
    }
   ],
   "source": [
    "#19. Train a lasso regression model with an alpha value of 0.001 \n",
    "#How many of the features have non-zero feature weights? Ans = 26\n",
    "from sklearn.linear_model import Lasso\n",
    "\n",
    "lasso_model = Lasso(alpha=0.001)\n",
    "lasso_model.fit(X_train, y_train)\n",
    "\n",
    "test_predictions = lasso_model.predict(X_test)\n",
    "\n",
    "tmptdf = pd.DataFrame([X.columns, lasso_model.coef_]).transpose()\n",
    "tmptdf.columns = [\"features\", \"weights\"]\n",
    "tmptdf.sort_values(by=\"weights\", ascending=False)"
   ]
  },
  {
   "cell_type": "code",
   "execution_count": 116,
   "metadata": {
    "ExecuteTime": {
     "end_time": "2022-02-12T03:13:49.233131Z",
     "start_time": "2022-02-12T03:13:49.223128Z"
    }
   },
   "outputs": [
    {
     "data": {
      "text/plain": [
       "93.64"
      ]
     },
     "execution_count": 116,
     "metadata": {},
     "output_type": "execute_result"
    }
   ],
   "source": [
    "#20 Root Mean Squared Error\n",
    "from sklearn.metrics import mean_squared_error\n",
    "rmse = np.sqrt(mean_squared_error(y_test, predicted_values))\n",
    "round(rmse, 3) \n"
   ]
  }
 ],
 "metadata": {
  "kernelspec": {
   "display_name": "Python 3",
   "language": "python",
   "name": "python3"
  },
  "language_info": {
   "codemirror_mode": {
    "name": "ipython",
    "version": 3
   },
   "file_extension": ".py",
   "mimetype": "text/x-python",
   "name": "python",
   "nbconvert_exporter": "python",
   "pygments_lexer": "ipython3",
   "version": "3.7.6"
  },
  "toc": {
   "base_numbering": 1,
   "nav_menu": {},
   "number_sections": true,
   "sideBar": true,
   "skip_h1_title": false,
   "title_cell": "Table of Contents",
   "title_sidebar": "Contents",
   "toc_cell": false,
   "toc_position": {},
   "toc_section_display": true,
   "toc_window_display": false
  },
  "varInspector": {
   "cols": {
    "lenName": 16,
    "lenType": 16,
    "lenVar": 40
   },
   "kernels_config": {
    "python": {
     "delete_cmd_postfix": "",
     "delete_cmd_prefix": "del ",
     "library": "var_list.py",
     "varRefreshCmd": "print(var_dic_list())"
    },
    "r": {
     "delete_cmd_postfix": ") ",
     "delete_cmd_prefix": "rm(",
     "library": "var_list.r",
     "varRefreshCmd": "cat(var_dic_list()) "
    }
   },
   "types_to_exclude": [
    "module",
    "function",
    "builtin_function_or_method",
    "instance",
    "_Feature"
   ],
   "window_display": false
  }
 },
 "nbformat": 4,
 "nbformat_minor": 4
}
